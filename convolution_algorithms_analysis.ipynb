{
  "cells": [
    {
      "cell_type": "markdown",
      "metadata": {
        "id": "view-in-github",
        "colab_type": "text"
      },
      "source": [
        "<a href=\"https://colab.research.google.com/github/rcolomina/52_deck_card_recognition/blob/master/convolution_algorithms_analysis.ipynb\" target=\"_parent\"><img src=\"https://colab.research.google.com/assets/colab-badge.svg\" alt=\"Open In Colab\"/></a>"
      ]
    },
    {
      "cell_type": "markdown",
      "source": [
        "# Performance Analysis of 1D Convolution\n",
        "\n",
        "The aim of this notebook is to analyse the performance of the different convolution algorithms in the context of COBRA processor.\n",
        "\n",
        "A comparison will be done considering parallelization with/without GPU processing.\n",
        "\n",
        "\n"
      ],
      "metadata": {
        "id": "LikfzW_F7TZW"
      }
    },
    {
      "cell_type": "markdown",
      "source": [
        "\n",
        "## Definition of Convolution\n",
        "\n",
        "Convolution is a binary mathematical operations that mixture two functions resulting in another function $(f * g)$ in the same space of functions.\n",
        "\n",
        "In the general case convolution is defined as follows:\n",
        "\n",
        "$(f * g)(t) := \\int_{-∞}^{+∞} f(τ)g(t-\\tau) d\\tau. $\n",
        "\n",
        "Its discrete version using arrays:\n",
        "\n",
        "$(x * y)[n] := Σ_{j=-∞}^{+∞} x[n]y[n-j] $\n",
        "\n",
        "## Interpretation\n",
        "\n",
        "One way to see convolution is as an operaton between signals (i.e. images, audio, radio). The 1st function is seen as the \"signal\", and the 2nd one is known as the kernel. The former is a fix signal, and the latter is seen as a sliding window that is overlapping the signal domain, depending on the values in which the convolution is calculated (shifting).\n",
        "\n",
        "## Convolution of Probability Distribution\n",
        "\n",
        "One use case of Convolution operations, is to calculate the probability distribution of the sum $X+Y$ of two random variables $X$ and $Y$ independently distributed.\n",
        "\n",
        "When working with discrite probability distributions, the formula of above can be expressed in terms of probabilities as follows:\n",
        "\n",
        "$P(Z = k) = Σ_{k=-∞}^{+∞} P(X = k) P(Y= z - k)$\n",
        "\n",
        "COBRA processor uses the aforementioned comlution, returning a $N+M-1$ dimensonal array for inputs of dimensions $N$ and $M$. This is a.k.a. full convolution.\n",
        "\n",
        "\n",
        "## Speeding Up Convolution with FFT\n",
        "\n",
        "The discrete Fourier transform (DFT) maps a complex-valued vector $x_k$ (time domain) into its frequency representation given by:\n",
        "\n",
        "$X_k = Σ_{n=0}^{N-1} x_n e^{-2\\pi i k_n / N}$\n",
        "\n",
        "This transformation allows to calculate to improve the multiplication speed on frequency domain.\n",
        "\n",
        "Depending on the value of N, different algorithms are deployed for the best performance\n",
        "\n",
        "## Convolution Padding\n",
        "\n",
        "Due to the domain of the functions involved on the convoluiton are defined over all the real numbers, is important to pad with zeros the input functions (or arrays) in order to be able to calculate a full convolution period.\n",
        "\n",
        "For a input signal of size The dimension of the output will be $D_s + D_k - 1$, where $D_s$ and $D_k$ are the dimensions of the signal and the kernel respectively.\n",
        "\n",
        "## Performance of the Convolution Algorithms\n",
        "\n",
        "The performance of the discrete convolution algorithms will be done depending the input size of the arrays. In the case of convoluiton, we have two arrys that may or not have the same input size.\n",
        "\n",
        "\n",
        "In this notebook we will the following ones:\n",
        "\n",
        "* Numpy Implementation\n",
        "* Numba Implementation\n",
        "* Cross-Product customized using Numba\n",
        "* FFT Convolution from Scipy\n",
        "* FFT Convoluiton customized using Numba\n",
        "\n"
      ],
      "metadata": {
        "id": "PXgtSvaq7i3b"
      }
    },
    {
      "cell_type": "code",
      "execution_count": null,
      "metadata": {
        "id": "4CWSCnrZGWgc"
      },
      "outputs": [],
      "source": [
        "import locale\n",
        "locale.getpreferredencoding = lambda: \"UTF-8\"\n",
        "\n",
        "import time\n",
        "from numba import njit\n",
        "import numpy as np\n",
        "import numba as nb\n",
        "from scipy import signal\n",
        "\n",
        "!export NUMBA_FORCE_CUDA_CC=1\n"
      ]
    },
    {
      "cell_type": "code",
      "source": [
        "\n",
        "import numpy as np\n",
        "from scipy import signal\n",
        "rng = np.random.default_rng()\n",
        "sig = rng.standard_normal(1000)\n",
        "autocorr = signal.fftconvolve(sig, sig[::-1], mode='full')\n",
        "autocorr\n",
        "type(rng)"
      ],
      "metadata": {
        "id": "KfwBNAic-oxt"
      },
      "execution_count": null,
      "outputs": []
    },
    {
      "cell_type": "code",
      "source": [
        "sig = rng.standard_normal(5)\n",
        "sig[::-1]\n",
        "print(sig,sig[::-1])"
      ],
      "metadata": {
        "id": "yvgX51_G_iB_"
      },
      "execution_count": null,
      "outputs": []
    },
    {
      "cell_type": "markdown",
      "metadata": {
        "id": "GFhtEwD7nQHf"
      },
      "source": [
        "# Analysis of Convolution Performance for Numba vs Numpy"
      ]
    },
    {
      "cell_type": "code",
      "execution_count": null,
      "metadata": {
        "id": "xipshU2AN5lM"
      },
      "outputs": [],
      "source": [
        "def npFftConvolve(a,b):\n",
        "    return signal.fftconvolve(a, b[::-1], mode='full')\n",
        "\n",
        "def npConvolve(a, b):\n",
        "    return np.convolve(a, b)\n",
        "\n",
        "@nb.njit('float64[:](float64[:], float64[:])')\n",
        "def nbConvolveUncont(a, b):\n",
        "    return np.convolve(a, b)\n",
        "\n",
        "@nb.njit('float64[::1](float64[::1], float64[::1])')\n",
        "def nbConvolveCont(a, b):\n",
        "    return np.convolve(a, b)\n",
        "\n",
        "n = 10\n",
        "\n",
        "a = np.random.random(n)\n",
        "b = np.random.random(n)\n",
        "\n",
        "c = npFftConvolve(a, b)\n",
        "print(\"Signal\", a)\n",
        "print(\"Kernel\", b)\n",
        "print(\"Convolution\", c)\n",
        "print(\"dim. Signal =\", len(a), \"dim. Kernel =\", len(b), \"din. convo =\", len(c))\n",
        "\n",
        "assert abs(npFftConvolve(a,b).all() == npConvolve(a,b).all())\n",
        "assert abs(npConvolve(a,b).all() == npConvolve(a,b).all())\n",
        "assert abs(nbConvolveCont(a,b).all() == npConvolve(a,b).all())"
      ]
    },
    {
      "cell_type": "code",
      "execution_count": null,
      "metadata": {
        "id": "wEdf4ylfR57x"
      },
      "outputs": [],
      "source": [
        "n = 10 ** 3\n",
        "\n",
        "a = np.random.random(n)\n",
        "b = np.random.random(n)\n",
        "\n",
        "%timeit -n 50 npFftConvolve(a, b)\n",
        "%timeit -n 50 npConvolve(a, b)\n",
        "%timeit -n 50 nbConvolveUncont(a, b)\n",
        "%timeit -n 50 nbConvolveCont(a, b)\n",
        "\n",
        "# Without GPU\n",
        "#\n",
        "#251 µs ± 73.3 µs per loop (mean ± std. dev. of 7 runs, 10 loops each)\n",
        "#257 µs ± 12.6 µs per loop (mean ± std. dev. of 7 runs, 10 loops each)\n",
        "#2.3 ms ± 56 µs per loop (mean ± std. dev. of 7 runs, 10 loops each)\n",
        "#2.11 ms ± 283 µs per loop (mean ± std. dev. of 7 runs, 10 loops each)"
      ]
    },
    {
      "cell_type": "code",
      "execution_count": null,
      "metadata": {
        "id": "_iEEkKaPSAE_"
      },
      "outputs": [],
      "source": [
        "@njit\n",
        "def custom_convolution_1d(signal, kernel):\n",
        "  n_sig = signal.size\n",
        "  n_ker = kernel.size\n",
        "  n_conv = n_sig - n_ker + 1\n",
        "\n",
        "  rev_kernel = kernel[::-1].copy()\n",
        "  result = np.zeros(n_conv)\n",
        "  for i_conv in range(n_conv):\n",
        "    result[i_conv] = np.dot(signal[i_conv:i_conv+n_ker], rev_kernel)\n",
        "\n",
        "  return result\n",
        "\n",
        "n = 5\n",
        "a = np.random.random(n)\n",
        "b = np.random.random(n)\n",
        "\n",
        "signal = a\n",
        "kernel = b\n",
        "\n",
        "signal = np.pad(signal,len(kernel)-1)\n",
        "\n",
        "c = custom_convolution_1d(signal, kernel)\n",
        "\n",
        "x = np.convolve(a, b, mode='full')\n",
        "\n",
        "print(c,x)\n",
        "\n",
        "print(\"custom convolution\")\n",
        "print(custom_convolution_1d(signal, kernel))\n",
        "print(\"numpt convolution\")\n",
        "print(np.convolve(a, b, mode='full'))\n",
        "\n",
        "assert custom_convolution_1d(signal, kernel).all() == np.convolve(a, b, mode='full').all()"
      ]
    },
    {
      "cell_type": "code",
      "execution_count": null,
      "metadata": {
        "id": "7wIbKHc0SD7F"
      },
      "outputs": [],
      "source": [
        "n = 10 ** 3\n",
        "\n",
        "a = np.random.random(n)\n",
        "b = np.random.random(n)\n",
        "\n",
        "%timeit -n 10 custom_convolution_1d(a, b)"
      ]
    },
    {
      "cell_type": "markdown",
      "metadata": {
        "id": "KEtpZbpKnD2I"
      },
      "source": [
        "## Analysis of Cupy Convolution"
      ]
    },
    {
      "cell_type": "markdown",
      "source": [],
      "metadata": {
        "id": "zEQl8f3GuF-1"
      }
    },
    {
      "cell_type": "code",
      "source": [
        "!nvcc --version"
      ],
      "metadata": {
        "id": "4dDUix-vuXTz"
      },
      "execution_count": null,
      "outputs": []
    },
    {
      "cell_type": "code",
      "execution_count": null,
      "metadata": {
        "id": "zWi_rY_CS-Hq"
      },
      "outputs": [],
      "source": [
        "\n",
        "!pip install cupy-cuda11x\n",
        "\n",
        "#!export NUMBA_FORCE_CUDA_CC=1"
      ]
    },
    {
      "cell_type": "code",
      "execution_count": null,
      "metadata": {
        "id": "rFTPj617PBPE"
      },
      "outputs": [],
      "source": [
        "import cupy\n",
        "\n",
        "n = 10 ** 1\n",
        "\n",
        "a = np.random.random(n)\n",
        "b = np.random.random(n)\n",
        "\n",
        "signal = a\n",
        "kernel = b\n",
        "\n",
        "signal = np.pad(signal,len(kernel)-1)\n",
        "custom_results = custom_convolution_1d(signal, kernel)\n",
        "\n",
        "a1 = cupy.array(a)\n",
        "b1 = cupy.array(b)\n",
        "\n",
        "assert custom_results.all() == cupy.convolve(a1, b1).all()\n",
        "print(\"custom results\",custom_results)\n",
        "print(\"cupy results\",cupy.convolve(a1, b1))"
      ]
    },
    {
      "cell_type": "code",
      "execution_count": null,
      "metadata": {
        "id": "9GOm6WHeQqBF"
      },
      "outputs": [],
      "source": [
        "n = 10 ** 2\n",
        "\n",
        "a = np.random.random(n)\n",
        "b = np.random.random(n)\n",
        "\n",
        "signal = a\n",
        "kernel = b\n",
        "\n",
        "signal = np.pad(signal,len(kernel)-1)\n",
        "c = custom_convolution_1d(signal, kernel)\n",
        "\n",
        "print(\"Custom algo\")\n",
        "%timeit -n 10 custom_convolution_1d(signal, kernel)\n",
        "\n",
        "a1 = cupy.array(a)\n",
        "b1 = cupy.array(b)\n",
        "print(\"Cupy algo\")\n",
        "%timeit -n 10 cupy.convolve(a1, b1)"
      ]
    },
    {
      "cell_type": "code",
      "execution_count": null,
      "metadata": {
        "id": "B6ImXe3sWtyk"
      },
      "outputs": [],
      "source": [
        "n = 2 * 10 ** 3\n",
        "\n",
        "a = np.random.random(n)\n",
        "b = np.random.random(n)\n",
        "\n",
        "signal = a\n",
        "kernel = b\n",
        "\n",
        "signal = np.pad(signal,len(kernel)-1)\n",
        "c = custom_convolution_1d(signal, kernel)\n",
        "\n",
        "print(\"Custom Algo\")\n",
        "%timeit -n 10 custom_convolution_1d(signal, kernel)\n",
        "\n",
        "a1 = cupy.array(a)\n",
        "b1 = cupy.array(b)\n",
        "print(\"Cupy Algo\")\n",
        "%timeit -n 10 cupy.convolve(a1, b1)"
      ]
    },
    {
      "cell_type": "markdown",
      "metadata": {
        "id": "s1nQ_B7LmXl0"
      },
      "source": [
        "## Analysis on Correctness of FFT+Convolution vs. Naked Convolution\n"
      ]
    },
    {
      "cell_type": "code",
      "execution_count": null,
      "metadata": {
        "id": "Z7ByheR8mkxx"
      },
      "outputs": [],
      "source": [
        "n = 10 ** 1\n",
        "\n",
        "a = np.random.random(n)\n",
        "b = np.random.random(n)\n",
        "\n",
        "print(\"Input Arrays of dimension \",n)\n",
        "print(a)\n",
        "print(b)\n",
        "\n",
        "disc_pdf_1c = a\n",
        "disc_pdf_2c = b\n",
        "\n",
        "disc_pdf_1c_ft = np.fft.fft(disc_pdf_1c)\n",
        "disc_pdf_2c_ft = np.fft.fft(disc_pdf_2c)\n",
        "\n",
        "disc_pdf_pdbi_ft = disc_pdf_1c_ft * disc_pdf_2c_ft\n",
        "\n",
        "disc_pdf_pdbi = np.real(np.fft.ifft(disc_pdf_pdbi_ft))\n",
        "\n",
        "print(\"FFT+Convolve\")\n",
        "print(disc_pdf_pdbi)\n",
        "\n",
        "print(\"Numpy Convolution\")\n",
        "print(np.convolve(a,b))\n",
        "\n",
        "a1 = cupy.array(a)\n",
        "b1 = cupy.array(b)\n",
        "\n",
        "print(\"Cupy Convolution\")\n",
        "cupy.convolve(a1, b1)\n"
      ]
    },
    {
      "cell_type": "markdown",
      "metadata": {
        "id": "pSOyU3ogHkfH"
      },
      "source": [
        "## 1D convolution with fft\n",
        "\n",
        "\n",
        "\n"
      ]
    },
    {
      "cell_type": "markdown",
      "source": [
        "## FFT Convolution Based"
      ],
      "metadata": {
        "id": "ZYS2KQZxHgGB"
      }
    },
    {
      "cell_type": "code",
      "source": [
        "import numpy as np\n",
        "from numba import njit\n",
        "import numba"
      ],
      "metadata": {
        "id": "nm9mee97oXOV"
      },
      "execution_count": null,
      "outputs": []
    },
    {
      "cell_type": "code",
      "execution_count": null,
      "metadata": {
        "id": "-b0fv7Z1-Jr0"
      },
      "outputs": [],
      "source": [
        "a = [1,2,3,4,5,6,7,8]\n",
        "b = [4,5,6,7,8,9,10,11]\n",
        "\n",
        "import scipy\n",
        "scipy.signal.fftconvolve(a,b)"
      ]
    },
    {
      "cell_type": "code",
      "execution_count": null,
      "metadata": {
        "id": "IoKfye48Udez"
      },
      "outputs": [],
      "source": [
        "import scipy\n",
        "\n",
        "r = scipy.signal.fftconvolve(a,b)\n",
        "\n",
        "print(r)\n",
        "\n",
        "assert r.all() == results_fft_convolve.all()\n",
        "\n",
        "r1 = np.convolve(a,b,mode='full')\n",
        "\n",
        "print(len(a),len(b))\n",
        "print(r1)\n",
        "\n",
        "assert r1.all() == results_fft_convolve.all()\n",
        "\n",
        "print(len(r))"
      ]
    },
    {
      "cell_type": "code",
      "execution_count": null,
      "metadata": {
        "id": "rOgZFfTdplT-"
      },
      "outputs": [],
      "source": [
        "## TEST STANDARD CONV.. VS Custom fftconcolve\n",
        "np.random.seed(42)\n",
        "\n",
        "for n in range(10,1000,10):\n",
        "\n",
        "  m = 2 * n # change the size of the domains\n",
        "\n",
        "  a = np.random.random(n)\n",
        "  b = np.random.random(m)\n",
        "\n",
        "  r1 = np.convolve(a,b,mode='full')\n",
        "\n",
        "  a2, b2 = get_padded(a,b)\n",
        "  assert len(a2) == len(b2)\n",
        "\n",
        "  r2 = fullNumpyFftConvolve(a2,b2)\n",
        "\n",
        "  assert r1.all() == r2.all()"
      ]
    },
    {
      "cell_type": "code",
      "execution_count": null,
      "metadata": {
        "id": "aQyEuZlaBCEe"
      },
      "outputs": [],
      "source": [
        "def fullNumpyFftConvolve(f,g):\n",
        "\n",
        "  ## apply fft to move to frequency domain (Fourier Space in Actuarial terms)\n",
        "  f1 = np.fft.fft(f)\n",
        "  f2 = np.fft.fft(g)\n",
        "\n",
        "  ## complex numbers multiplication\n",
        "  m = f1 * f2\n",
        "\n",
        "  ## return to time domain and get the real part\n",
        "  ifft = np.fft.ifft(m)\n",
        "  return np.real(ifft)\n",
        "\n",
        "\n",
        "def get_padded(a,b):\n",
        "\n",
        "  N = len(a)\n",
        "  M = len(b)\n",
        "\n",
        "  a_pad = np.zeros(M-1)\n",
        "  b_pad = np.zeros(N-1)\n",
        "\n",
        "  a2 = np.concatenate((a,a_pad))\n",
        "  b2 = np.concatenate((b,b_pad))\n",
        "  return a2,b2\n",
        "\n",
        "\n",
        "a1 = np.array(a)\n",
        "b1 = np.array(b)\n",
        "\n",
        "print(\"fftconvolve no padding\")\n",
        "a2, b2 = get_padded(a1,b1)\n",
        "\n",
        "r1 = fullNumpyFftConvolve(a2,b2)\n",
        "\n",
        "assert len(a2)==len(b2)\n",
        "\n",
        "print(a2, b2)\n",
        "print(\"fftconvolve padded\")\n",
        "\n",
        "results_fft_convolve = fullNumpyFftConvolve(a2,b2)\n",
        "#print(\"output dimension =\",len(restuls_fft_convolve))\n",
        "#print(restuls_fft_convolve)"
      ]
    },
    {
      "cell_type": "code",
      "source": [
        "np.random.random(10)"
      ],
      "metadata": {
        "id": "ZKAvFn8dFl6v"
      },
      "execution_count": null,
      "outputs": []
    },
    {
      "cell_type": "markdown",
      "source": [
        "## Speedtest comparing Tensorflow, PyTorch, CuPy and Numpy\n",
        "\n",
        "Comparing FFT Convolution over each engine\n",
        "\n",
        "\n"
      ],
      "metadata": {
        "id": "bBjWRd4pHuft"
      }
    },
    {
      "cell_type": "code",
      "source": [
        "%matplotlib inline\n",
        "import tensorflow as tf\n",
        "import torch\n",
        "import cupy as cp\n",
        "import numpy as np\n",
        "import matplotlib.pyplot as plt\n",
        "# Print numpy see whether mkl/blas is available\n",
        "np.show_config()\n",
        "\n",
        "# check the gpu and cuda version\n",
        "!nvidia-smi"
      ],
      "metadata": {
        "id": "m_1lFzpiSEbF"
      },
      "execution_count": null,
      "outputs": []
    },
    {
      "cell_type": "markdown",
      "source": [
        "## TENSORFLOW FFT CONVOLUTION"
      ],
      "metadata": {
        "id": "WenitrxcEBzx"
      }
    },
    {
      "cell_type": "code",
      "source": [
        "from tensorflow.python.client import device_lib\n",
        "\n",
        "def get_available_gpus():\n",
        "    local_device_protos = device_lib.list_local_devices()\n",
        "    return [x.name for x in local_device_protos if x.device_type == 'GPU']\n",
        "\n",
        "get_available_gpus()\n",
        "print('TensorFlow: {}'.format(tf.__version__))\n",
        "\n",
        "def tfFftConvolve(a,b):\n",
        "  # direct fft\n",
        "  af = tf.signal.fft(a)\n",
        "  bf = tf.signal.fft(b)\n",
        "\n",
        "  # multiply complex numbers\n",
        "  m = af * bf\n",
        "\n",
        "  # inverse fft to get back time domain\n",
        "  ifft = tf.signal.ifft(m)\n",
        "\n",
        "  # return real part\n",
        "  return np.real(ifft)\n"
      ],
      "metadata": {
        "id": "xwIr_V4-QbCn"
      },
      "execution_count": null,
      "outputs": []
    },
    {
      "cell_type": "markdown",
      "source": [
        "## Testing Tensorflow FFT convolution"
      ],
      "metadata": {
        "id": "ebt8TYUND481"
      }
    },
    {
      "cell_type": "code",
      "source": [
        "n = 10 ** 1\n",
        "\n",
        "a = np.random.random(n)\n",
        "b = np.random.random(n)\n",
        "\n",
        "print(a,b)\n",
        "#print(a.size)\n",
        "\n",
        "r = tfFftConvolve(a,b)\n",
        "print(len(r),r)"
      ],
      "metadata": {
        "id": "nhzCZA1TtNyU"
      },
      "execution_count": null,
      "outputs": []
    },
    {
      "cell_type": "markdown",
      "source": [
        "## TORCH FFT CONVOLUTION"
      ],
      "metadata": {
        "id": "ez2af2VHD9dm"
      }
    },
    {
      "cell_type": "code",
      "source": [
        "import torch\n",
        "import numpy as np\n",
        "\n",
        "device = torch.device(\"cuda:0\" if torch.cuda.is_available() else \"cpu\")\n",
        "## TODO: implement the pytorch version as well\n",
        "def pyTorchFftConvolveCUDA(a,b):\n",
        "\n",
        "  a = torch.from_numpy(a).float().to(device)\n",
        "  b = torch.from_numpy(b).float().to(device)\n",
        "\n",
        "  # direct fft\n",
        "  af = torch.fft.fft(a)\n",
        "  bf = torch.fft.fft(b)\n",
        "\n",
        "  # multiply complex numbers\n",
        "  m = af * bf\n",
        "\n",
        "  # inverse fft to get back time domain\n",
        "  ifft = torch.fft.ifft(m)\n",
        "\n",
        "  # r eturn real part\n",
        "  return np.real(ifft)"
      ],
      "metadata": {
        "id": "YRdnCBoFukfo"
      },
      "execution_count": null,
      "outputs": []
    },
    {
      "cell_type": "markdown",
      "source": [
        "## Testing Torch FFT convolution"
      ],
      "metadata": {
        "id": "6Ixdwg_ZEa43"
      }
    },
    {
      "cell_type": "code",
      "source": [
        "n = 10 ** 2\n",
        "\n",
        "a = np.random.random(n)\n",
        "b = np.random.random(n)\n",
        "\n",
        "#print(a,b)\n",
        "r1 = pyTorchFftConvolveCUDA(a,b)\n",
        "r2 = tfFftConvolve(a,b)\n",
        "\n",
        "assert r1.all() == r2.all()"
      ],
      "metadata": {
        "id": "xUVZcuWfNbSe"
      },
      "execution_count": null,
      "outputs": []
    },
    {
      "cell_type": "markdown",
      "source": [
        "## CUPY FFT CONVOLUTON"
      ],
      "metadata": {
        "id": "ls9veHpvKKRH"
      }
    },
    {
      "cell_type": "code",
      "source": [
        "import cupy as cp\n",
        "\n",
        "cp.fft.config.use_multi_gpus = True"
      ],
      "metadata": {
        "id": "xhgZdZkZUc3x"
      },
      "execution_count": null,
      "outputs": []
    },
    {
      "cell_type": "code",
      "source": [
        "\n",
        "\n",
        "def cupyFftConvolution(a,b):\n",
        "\n",
        "  a = cp.array(a)\n",
        "  b = cp.array(b)\n",
        "\n",
        "  af = cp.fft.fft(a)\n",
        "  bf = cp.fft.fft(b)\n",
        "\n",
        "  m = af * bf\n",
        "\n",
        "  ifft = cp.fft.ifft(m)\n",
        "\n",
        "  return np.real(ifft)"
      ],
      "metadata": {
        "id": "Prvbg54OUgC5"
      },
      "execution_count": null,
      "outputs": []
    },
    {
      "cell_type": "code",
      "source": [
        "n =10\n",
        "a = np.random.random(n)\n",
        "x = cp.array(a)\n",
        "x"
      ],
      "metadata": {
        "id": "QXE0U8yFX5rm"
      },
      "execution_count": null,
      "outputs": []
    },
    {
      "cell_type": "markdown",
      "source": [
        "## Testing CuPy FFT convolution\n"
      ],
      "metadata": {
        "id": "zXq_ggWkKNTk"
      }
    },
    {
      "cell_type": "code",
      "source": [
        "n = 10 ** 2\n",
        "\n",
        "a = np.random.random(n)\n",
        "b = np.random.random(n)\n",
        "\n",
        "r1 = cupyFftConvolution(a,b)\n",
        "r2 = tfFftConvolve(a,b)\n",
        "\n",
        "## check correctnetss\n",
        "assert r1.all() == r2.all()"
      ],
      "metadata": {
        "id": "pNnnLIGPXdvg"
      },
      "execution_count": null,
      "outputs": []
    },
    {
      "cell_type": "markdown",
      "source": [
        "## TESTING ALL TOGETHER"
      ],
      "metadata": {
        "id": "iXn1f3w6XkHD"
      }
    },
    {
      "cell_type": "code",
      "source": [
        "a = 3\n",
        "n = a * 10 ** 4\n",
        "\n",
        "import numpy as np\n",
        "\n",
        "a = np.random.random(n)\n",
        "b = np.random.random(n)\n",
        "\n",
        "#%timeit -n 50 npFftConvolve(a, b)\n",
        "#%timeit -n 50 npFftConvolve(a,b)\n",
        "%timeit -n 50 tfFftConvolve(a,b)\n",
        "%timeit -n 50 pyTorchFftConvolveCUDA(a,b)"
      ],
      "metadata": {
        "id": "d3IRcW5mQ3W0"
      },
      "execution_count": null,
      "outputs": []
    },
    {
      "cell_type": "code",
      "source": [
        "powers_of_two = [2**n for n in range(6,15)]\n",
        "powers_of_two"
      ],
      "metadata": {
        "id": "f36YEWz39iVk"
      },
      "execution_count": null,
      "outputs": []
    },
    {
      "cell_type": "code",
      "source": [
        "size = max(powers_of_two)\n",
        "aa = np.random.random(size)\n",
        "bb = np.random.random(size)\n",
        "\n",
        "sizes = []\n",
        "\n",
        "npconvolve_times = []\n",
        "scipy_times = []\n",
        "npfft_times = []\n",
        "tensor_times = []\n",
        "pytorch_times = []\n",
        "cupy_times = []\n",
        "numba_times = []\n",
        "\n",
        "for size in powers_of_two:\n",
        "\n",
        "  print(\"Loop size \", size)\n",
        "\n",
        "  a = aa[0:size]\n",
        "  b = bb[0:size]\n",
        "\n",
        "  print(\"standard\")\n",
        "  t0 = %timeit -n 10 -o npConvolve(a, b)\n",
        "  print(\"fft-scipy\")\n",
        "  t1 = %timeit -n 100 -o npFftConvolve(a, b)\n",
        "  print(\"fft-numpy\")\n",
        "  t2 = %timeit -n 10 -o fullNumpyFftConvolve(a,b)\n",
        "  print(\"fft-tensor\")\n",
        "  t3 = %timeit -n 10 -o tfFftConvolve(a,b)\n",
        "  print(\"fft-pytorch\")\n",
        "  t4 = %timeit -n 10 -o pyTorchFftConvolveCUDA(a,b)\n",
        "  print(\"fft-cupy\")\n",
        "  t5 = %timeit -n 10 -o cupyFftConvolution(a,b)\n",
        "  print(\"fft-numba\")\n",
        "  t6 = %timeit -n 10 -o nbConvolveCont(a, b)\n",
        "\n",
        "  sizes.append(size)\n",
        "\n",
        "  npconvolve_times.append(t0.average)\n",
        "  scipy_times.append(t1)\n",
        "  npfft_times.append(t2.average)\n",
        "  tensor_times.append(t3.average)\n",
        "  pytorch_times.append(t4.average)\n",
        "  cupy_times.append(t5.average)\n",
        "  numba_times.append(t6.average)\n",
        "print(\"Experiment Finished\")"
      ],
      "metadata": {
        "id": "ET_d58mauZRE"
      },
      "execution_count": null,
      "outputs": []
    },
    {
      "cell_type": "code",
      "source": [
        "# importing matplotlib module\n",
        "import matplotlib.pyplot as plt\n",
        "plt.style.use('default')\n",
        "\n",
        "# %matplotlib inline: only draw static\n",
        "# images in the notebook\n",
        "%matplotlib inline\n",
        "\n",
        "import pandas as pd\n",
        "\n",
        "\n",
        "#assert len(npconvolve_times) == len(npfft_times)\n",
        "assert len(npfft_times) == len(tensor_times)\n",
        "assert len(tensor_times) == len(pytorch_times)\n",
        "assert len(pytorch_times) == len(cupy_times)\n",
        "\n",
        "\n",
        "\n",
        "df = pd.DataFrame.from_dict({\"size\": sizes,\n",
        "                             \"npconvolve\":[x for x in npconvolve_times],\n",
        "                             \"scipy\":[x.average for x in scipy_times],\n",
        "                             \"npfft\":[x for x in npfft_times],\n",
        "                             \"tensor\":[x for x in tensor_times],\n",
        "                             \"pytorch\":[x for x in pytorch_times],\n",
        "                             \"cupy\":[x for x in cupy_times],\n",
        "                             \"numba\":[x for x in numba_times]})\n",
        "\n",
        "\n",
        "plt.figure(figsize=(12, 8), dpi=100)\n",
        "\n",
        "# using plot method to plot open prices.\n",
        "# in plot method we set the label and color of the curve.\n",
        "df = df.set_index(\"size\")\n",
        "\n",
        "df['npconvolve'].plot(label='Numpy Convolve')\n",
        "df['scipy'].plot(label='Scipy (CPU)')#, xticks=powers_of_two)\n",
        "df['npfft'].plot(label='Numpy (CPU)')#, xticks=powers_of_two)\n",
        "df['tensor'].plot(label='Tensor Flow (GPU)') #' , xticks=powers_of_two)\n",
        "df['pytorch'].plot(label='Pytorch (GPU)') #, xticks=powers_of_two)\n",
        "df['cupy'].plot(label='Cupy (GPU)') #, xticks=powers_of_two)\n",
        "df['numba'].plot(label='Numba (GPU)') #, xticks=powers_of_two)\n",
        "\n",
        "\n",
        "\n",
        "plt.xticks = powers_of_two\n",
        "#plt.xticks(rotation=90)\n",
        "plt.title(\"FFT Convolution Algorithms (FFT + Fourier Space Product + iFFT)\")\n",
        "plt.xlabel('Input Size [ Size(Signal) ~= Size(Kernel) ]')\n",
        "plt.ylabel('Time (miliseconds)')\n",
        "plt.yscale('log')\n",
        "#plt.xscale('log')\n",
        "plt.legend()\n",
        "plt.plot(kind=\"bars\")\n"
      ],
      "metadata": {
        "id": "nf1WiMzkyjzB"
      },
      "execution_count": null,
      "outputs": []
    },
    {
      "cell_type": "code",
      "source": [
        "df\n"
      ],
      "metadata": {
        "id": "-Ae73Kt_SHOj"
      },
      "execution_count": null,
      "outputs": []
    },
    {
      "cell_type": "code",
      "source": [
        "\n",
        "df = df.reset_index()\n",
        "df"
      ],
      "metadata": {
        "id": "ijY3-0TfydEI"
      },
      "execution_count": null,
      "outputs": []
    },
    {
      "cell_type": "code",
      "source": [
        "plt.title(\"FFT Convolution Algorithms (FFT + Fourier Space Product + iFFT)\")\n",
        "plt.xlabel('Input Size [ Size(Signal) ~= Size(Kernel) ]')\n",
        "#plt.ylabel('Time (miliseconds)')\n",
        "#plt.yscale('log')\n",
        "plt.legend()\n",
        "\n",
        "df[['size','pytorch','npfft','tensor','cupy']].plot(x='size',kind='bar')"
      ],
      "metadata": {
        "id": "wo49TZfFzD8p"
      },
      "execution_count": null,
      "outputs": []
    },
    {
      "cell_type": "code",
      "source": [
        "ax = sns.barplot(x=\"day\", y=\"total_bill\", data=tips)"
      ],
      "metadata": {
        "id": "N9xHq7kazgvu"
      },
      "execution_count": null,
      "outputs": []
    },
    {
      "cell_type": "code",
      "source": [
        "import pandas as pd\n",
        "\n",
        "import matplotlib.pyplot as plt\n",
        "\n",
        "df[]"
      ],
      "metadata": {
        "id": "nIjIm7V41CPp"
      },
      "execution_count": null,
      "outputs": []
    }
  ],
  "metadata": {
    "accelerator": "GPU",
    "colab": {
      "provenance": [],
      "gpuType": "T4",
      "private_outputs": true,
      "toc_visible": true,
      "include_colab_link": true
    },
    "kernelspec": {
      "display_name": "Python 3",
      "name": "python3"
    },
    "language_info": {
      "name": "python"
    }
  },
  "nbformat": 4,
  "nbformat_minor": 0
}